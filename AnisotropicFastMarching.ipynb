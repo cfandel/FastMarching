{
 "cells": [
  {
   "cell_type": "markdown",
   "metadata": {},
   "source": [
    "## Anisotropic Fast Marching Methods ##\n",
    "Experimenting with finding the shortest path through an anisotropic medium.\n",
    "\n",
    "Papers being referenced: \n",
    "- https://hal.archives-ouvertes.fr/hal-01778322/document\n",
    "- https://hal.archives-ouvertes.fr/hal-01507334v4/document\n",
    "\n",
    "GitHub repository with source algorithm: \n",
    "- https://github.com/Mirebeau/AdaptiveGridDiscretizations\n",
    "\n",
    "Demo Jupyter Notebooks:\n",
    "- https://nbviewer.jupyter.org/github/Mirebeau/AdaptiveGridDiscretizations/blob/master/Notebooks_FMM/Riemannian.ipynb\n",
    "\n"
   ]
  },
  {
   "cell_type": "markdown",
   "metadata": {},
   "source": [
    "### Setup ###\n",
    "First install the necessary packages.<br>\n",
    "Clone the AGD repository from GitHub, then create an environment using the environment file: <br>\n",
    "`conda env create --file agd-hfm.yaml` <br>\n",
    "    \n",
    "Or install directly with conda: <br>\n",
    "`conda install agd -c agd-lbr`\n"
   ]
  },
  {
   "cell_type": "code",
   "execution_count": 2,
   "metadata": {},
   "outputs": [],
   "source": [
    "import agd\n",
    "from agd import Eikonal\n",
    "from agd.Plotting import quiver\n",
    "import sys\n",
    "import numpy as np\n",
    "import pandas as pd\n",
    "import random\n",
    "import matplotlib\n",
    "import matplotlib.pyplot as plt\n",
    "from mpl_toolkits.mplot3d import Axes3D\n",
    "from mayavi import mlab # Plots implicit surfaces in 3D\n",
    "%matplotlib inline"
   ]
  },
  {
   "cell_type": "code",
   "execution_count": 3,
   "metadata": {},
   "outputs": [],
   "source": [
    "def crop2topo(grid, dem, a=None):\n",
    "    '''Crop gempy lith_block to land surface using an imported DEM raster file.\n",
    "    \n",
    "    Inputs:\n",
    "    grid:   list [xmin,xmax,xres, ymin,ymax,yres, zmin,zmax,zres]\n",
    "    dem:    array of elevation values, of same xy dimensions as model, to be used for cropping.\n",
    "    a:      optional: array to be cropped if not using gempy (e.g. as provided by mapping.crop2raster())\n",
    "            must already be of dimensions (xres,yres,zres)\n",
    "              \n",
    "    Output:\n",
    "    gcrop:    cropped lith_block array'''\n",
    "\n",
    "    #Get coordinate info from grid & create VTK cells info in coord system instead of in cell indices:\n",
    "    xmin = grid[0]   #min (left) coordinate\n",
    "    xmax = grid[1]   #max (right) coordinate\n",
    "    xres = grid[2]   #number of pixels\n",
    "    ymin = grid[3]\n",
    "    ymax = grid[4]\n",
    "    yres = grid[5]\n",
    "    zmin = grid[6]   #important: need zmin of model, NOT just DEM: model may extend below lowest point at land surface\n",
    "    zmax = grid[7]\n",
    "    zres = grid[8]\n",
    "        \n",
    "    dx   = (xmax-xmin)/xres                       #pixel width\n",
    "    xvals = np.arange(xmin,xmax+dx,dx)            #coordinates of column edges (borders between pixels)\n",
    "    dy   = (ymax-ymin)/yres\n",
    "    yvals = np.arange(ymin,ymax+dy,dy)\n",
    "    dz   = (zmax-zmin)/zres\n",
    "    zvals = np.arange(zmin,zmax+dz,dz)\n",
    "\n",
    "    #Get DEM & convert to topo array:\n",
    "    dema = dem\n",
    "    dema = dema.astype(float)    #convert integer array to float array\n",
    "    dema[dema==0] = np.nan       #replace zeros with NaNs (must first convert array to float)        \n",
    "    t = dema.copy()              #make a copy of elevation values directly from dem (do not use topo grid - different indexing!)\n",
    "    #t = np.rot90(t)              #rotate & flip to be same orientation as lith block\n",
    "    #t = np.fliplr(t)                 \n",
    "    #t = np.flipud(t)\n",
    "\n",
    "    #Get lith array:\n",
    "    g = a.copy()                         #if array already provided, use array (make copy) (must already be 3D)\n",
    "    g = g.round()                            #round to integers\n",
    "\n",
    "    #Check dimensions for debugging:\n",
    "    #print('topo shape:\\t', t.shape)\n",
    "    #print('lith shape:\\t', g.shape)\n",
    "    #print('topo min:\\t',   t.min(), np.unravel_index(t.argmin(), t.shape)) #show indices of min/max of topography\n",
    "    #print('topo max:\\t',   t.max(), np.unravel_index(t.argmax(), t.shape))\n",
    "    #print('model min:\\t',  zmin) #show min/max of entire model\n",
    "    #print('model max:\\t',  zmax)\n",
    "\n",
    "    #Get z indices of land surface:\n",
    "    #ind = sol.grid.topography._find_indices().copy()  #this has the wrong dimensions! do not use! it is stretched to rotate 90 degrees. instead:\n",
    "    ind = (t - zmin) / dz              #calculate the cell index of each point in the dem array using the cell height (i.e. how many cells/layers up it is from the base)\n",
    "    #ind = ind - 1                      #bump down by one to represent bottom of cell (this cuts lower than actual topo) \n",
    "    ind[ind==-1] = 0                   #zeros should stay zeros and not go negative\n",
    "    ind = np.ceil(ind)                 #round up to nearest integer \n",
    "    ind = ind.astype(int)              #convert to integers for use as vertical indices\n",
    "    #print('ind:\\t', ind.shape, type(ind)) #debugging\n",
    "    #print(np.unique(ind))\n",
    "\n",
    "    #Crop off everything above the land surface:\n",
    "    m = np.zeros((xres,yres))  #create array of zeroes of shape (xres,yres)\n",
    "    gcrop = g.copy()           #make a copy bc need original as reference\n",
    "    for x in range(xres):      #loop over x,y indices\n",
    "        for y in range(yres):\n",
    "            try:\n",
    "                z = ind[x,y]            #get land surface elev at point (x,y)\n",
    "                #m[x,y] = g[x,y,z]       #get lith value at land surface at point (x,y) - only if want to return a map\n",
    "                gcrop[x,y,z:] = np.nan  #convert all lith values above land surface at point (x,y) to nans\n",
    "            except:\n",
    "                z = ind[y,x]\n",
    "                gcrop[y,x,z:] = np.nan  #convert all lith values above land surface at point (x,y) to nans\n",
    "    #print('map:\\t', m.shape)       #for debugging\n",
    "    #print('crop:\\t', gcrop.shape)\n",
    "    \n",
    "    return gcrop\n"
   ]
  },
  {
   "cell_type": "markdown",
   "metadata": {},
   "source": [
    "### Isotropic Fast Marching example ###\n",
    "Simple explanation here: https://math.berkeley.edu/~sethian/2006/Explanations/fast_marching_explain.html\n",
    "\n",
    "**Note:** This does not seem to work in 3D"
   ]
  },
  {
   "cell_type": "code",
   "execution_count": 4,
   "metadata": {},
   "outputs": [
    {
     "name": "stdout",
     "output_type": "stream",
     "text": [
      "Seed grid indices rounded to [[54 40 42]], with rounding errors [[ 0.5 -0.5 -0.5]]\n",
      "Rounded positions [[54.5 40.5 42.5]], original positions [[55. 40. 42.]]\n"
     ]
    },
    {
     "data": {
      "text/plain": [
       "dictIn({'arrayOrdering': 'RowMajor', 'model': 'Isotropic3', 'order': 2.0, 'cost': array(1.), 'gridScales': array([1., 1., 1.]), 'dims': array([100.,  80.,  60.]), 'origin': array([0., 0., 0.]), 'seeds': array([[55., 40., 42.]]), 'seedValues': array([0.]), 'exportValues': 1.0, 'exportGeodesicFlow': 1})"
      ]
     },
     "execution_count": 4,
     "metadata": {},
     "output_type": "execute_result"
    },
    {
     "data": {
      "image/png": "[encoded data removed]",
      "text/plain": [
       "<Figure size 432x288 with 1 Axes>"
      ]
     },
     "metadata": {
      "needs_background": "light"
     },
     "output_type": "display_data"
    }
   ],
   "source": [
    "#Create input object:\n",
    "hfmIn = Eikonal.dictIn({   # Create a dictionary-like structure to store the input data\n",
    "    'model': 'Isotropic3', # Isotropic eikonal equation (use Isotropic2 for 2D, Isotropic3 for 3D)\n",
    "    'order':  2.,          # Use a second order scheme, so as to increase accuracy\n",
    "    'cost':   1.           # Unit cost for now. A position dependent cost function is also considered below.\n",
    "    #'speed': 1.           # One may equivalently provide a speed function. In that case cost = 1/speed.\n",
    "})\n",
    "\n",
    "#Create grid:\n",
    "xmin = 0;  xmax = 100;  xres = 100;  dx = 1.0 \n",
    "ymin = 0;  ymax = 80;   yres = 80;   dy = 1.0 \n",
    "zmin = 0;  zmax = 60;   zres = 60;   dz = 1.0\n",
    "hfmIn.SetRect(sides=[[xmin,xmax],[ymin,ymax],[zmin,zmax]], dims=[xres,yres,zres])  #create a grid with sides [xmin,xmax],[ymin,ymax] and dims (height/gridScale, width/gridScale)\n",
    "X,Y,Z = hfmIn.Grid()                                  #create a coordinate system (two arrays of the X and Y values (respectively) at each point in the grid)\n",
    "f = plt.figure()\n",
    "ax = f.add_subplot(111, projection='3d')\n",
    "ax.scatter(X,Y,Z, s=0.5)                               #visualize the grid\n",
    "\n",
    "#Define the target points (the seeds, at which travel time = 0):\n",
    "hfmIn.update({\n",
    "    'seeds':[[55, 40, 42]],  # Introduce seeds, at positions [[x1,y1],[x2,y2],...] (will be rounded to closest grid point)\n",
    "    'seedValues':[0.],           # Boundary conditions imposed at the seeds. (?)\n",
    "    # 'seedValues' defaults [0.] if unspecified. \n",
    "})\n",
    "index,rounding_error = hfmIn.IndexFromPoint(hfmIn['seeds'])  #get rounded indices of seeds in grid\n",
    "print(f\"Seed grid indices rounded to {index}, with rounding errors {rounding_error}\")\n",
    "print(f\"Rounded positions {hfmIn.PointFromIndex(index)}, original positions {hfmIn.PointFromIndex(index+rounding_error)}\") #get back original positions if needed\n",
    "\n",
    "#Indicate desired outputs:\n",
    "hfmIn['exportValues'] = 1.         # Ask for the PDE solution\n",
    "hfmIn['exportGeodesicFlow'] = 1    # Ask for the geodesic flow \n",
    "hfmIn"
   ]
  },
  {
   "cell_type": "code",
   "execution_count": 5,
   "metadata": {},
   "outputs": [
    {
     "data": {
      "text/plain": [
       "<matplotlib.image.AxesImage at 0x2212cfbcd88>"
      ]
     },
     "execution_count": 5,
     "metadata": {},
     "output_type": "execute_result"
    },
    {
     "data": {
      "image/png": "[encoded data removed]",
      "text/plain": [
       "<Figure size 432x288 with 1 Axes>"
      ]
     },
     "metadata": {
      "needs_background": "light"
     },
     "output_type": "display_data"
    }
   ],
   "source": [
    "#Create topography array:\n",
    "dema = np.full((yres,xres),zmax, dtype=float) #create array with the model x and y dimensions, filled with the max z value\n",
    "mx = -0.25                      #set the slope in the x direction (west to east)\n",
    "my = -0.25                      #set the slope in the y direction (north to south)\n",
    "valley  = yres//2               #set which row to put the valley in\n",
    "for col in range(xres):                 #move west to east along columns\n",
    "    dema[:,col] = mx*col + dema[0,0]    #change the elevation in each column along a slope, starting from the max elevation\n",
    "    for row in range(0,valley+1):       #move down rows towards valley (north to south)\n",
    "        dema[row,col] = my*row + dema[0,col]   #change the elevation in each row along a slope, starting from the elevation along the northern edge\n",
    "for row in range(valley,yres):                 #move down rows away from valley (south to north)\n",
    "    dema[row,:] = dema[yres-row,:]             #insert a mirror image of the north side of the valley\n",
    "plt.imshow(dema, vmin=zmin, vmax=zmax, cmap='gist_earth')"
   ]
  },
  {
   "cell_type": "code",
   "execution_count": 6,
   "metadata": {},
   "outputs": [
    {
     "ename": "NameError",
     "evalue": "name 'ispring' is not defined",
     "output_type": "error",
     "traceback": [
      "\u001b[1;31m---------------------------------------------------------------------------\u001b[0m",
      "\u001b[1;31mNameError\u001b[0m                                 Traceback (most recent call last)",
      "\u001b[1;32m<ipython-input-6-81f80d26f1f6>\u001b[0m in \u001b[0;36m<module>\u001b[1;34m\u001b[0m\n\u001b[1;32m----> 1\u001b[1;33m \u001b[0mhfmIn\u001b[0m\u001b[1;33m.\u001b[0m\u001b[0mPointFromIndex\u001b[0m\u001b[1;33m(\u001b[0m\u001b[1;33m[\u001b[0m\u001b[0mispring\u001b[0m\u001b[1;33m[\u001b[0m\u001b[1;36m0\u001b[0m\u001b[1;33m]\u001b[0m\u001b[1;33m,\u001b[0m\u001b[0mispring\u001b[0m\u001b[1;33m[\u001b[0m\u001b[1;36m1\u001b[0m\u001b[1;33m]\u001b[0m\u001b[1;33m,\u001b[0m\u001b[0mispring\u001b[0m\u001b[1;33m[\u001b[0m\u001b[1;36m2\u001b[0m\u001b[1;33m]\u001b[0m\u001b[1;33m]\u001b[0m\u001b[1;33m)\u001b[0m\u001b[1;33m\u001b[0m\u001b[1;33m\u001b[0m\u001b[0m\n\u001b[0m",
      "\u001b[1;31mNameError\u001b[0m: name 'ispring' is not defined"
     ]
    }
   ],
   "source": [
    "hfmIn.PointFromIndex([ispring[0],ispring[1],ispring[2]])"
   ]
  },
  {
   "cell_type": "code",
   "execution_count": null,
   "metadata": {},
   "outputs": [],
   "source": [
    "#Create topography array:\n",
    "dema = np.full((yres,xres),zmax, dtype=float) #create array with the model x and y dimensions, filled with the max z value\n",
    "mx = -0.25                      #set the slope in the x direction (west to east)\n",
    "my = -0.25                      #set the slope in the y direction (north to south)\n",
    "valley  = yres//2               #set which row to put the valley in\n",
    "for col in range(xres):                 #move west to east along columns\n",
    "    dema[:,col] = mx*col + dema[0,0]    #change the elevation in each column along a slope, starting from the max elevation\n",
    "    for row in range(0,valley+1):       #move down rows towards valley (north to south)\n",
    "        dema[row,col] = my*row + dema[0,col]   #change the elevation in each row along a slope, starting from the elevation along the northern edge\n",
    "for row in range(valley,yres):                 #move down rows away from valley (south to north)\n",
    "    dema[row,:] = dema[yres-row,:]             #insert a mirror image of the north side of the valley\n",
    "f = plt.figure(figsize=(15,5))\n",
    "f.add_subplot(151)\n",
    "plt.imshow(dema, vmin=zmin, vmax=zmax, cmap='gist_earth')\n",
    "\n",
    "#Convert from elevations to z cell indices:\n",
    "idem = np.empty((yres,xres), dtype=int)    \n",
    "for row in range(yres):\n",
    "    for col,z in enumerate(dema[row,:]):\n",
    "        [[yind,xind,zind],error] = hfmIn.IndexFromPoint([0,0,z])\n",
    "        idem[row,col] = zind-1 #correct to be index below\n",
    "f.add_subplot(152)\n",
    "plt.imshow(idem, vmin=zmin, vmax=zmax, cmap='gist_gray') #0=bottom,black, 1=top,white\n",
    "print(np.unique(idem))\n",
    "\n",
    "#Create geologic contact surface elevation array:\n",
    "zstart = zmax - (zmax-zmin)//4\n",
    "zcontact = np.full((yres,xres), zstart, dtype=float) #create array with the model x and y dimensions, filled with the max z value\n",
    "mx = -0.1                      #set the slope in the x direction (west to east)\n",
    "my = -0.1                      #set the slope in the y direction (north to south)\n",
    "valley  = yres//2              #set which row to put the valley in\n",
    "for col in range(xres):               #move west to east along columns\n",
    "    zcontact[:,col] = mx*col + zcontact[0,0]    #change the elevation in each column along a slope, starting from the max elevation\n",
    "    for row in range(ymin,valley+1):  #move down rows towards valley (north to south)\n",
    "        zcontact[row,col] = my*row + zcontact[0,col]   #change the elevation in each row along a slope, starting from the elevation along the northern edge\n",
    "for row in range(valley,yres):        #move down rows away from valley (south to north)\n",
    "    zcontact[row,:] = zcontact[yres-row,:]            #insert a mirror image of the north side of the valley\n",
    "f.add_subplot(153)\n",
    "plt.imshow(zcontact, vmin=zmin, vmax=zmax, cmap='gist_earth')\n",
    "\n",
    "#Convert from elevations to cell z indices:\n",
    "icontact = np.empty((yres,xres))\n",
    "#for row in range(yres):\n",
    "    #_,_,icontact[row,:] = mapping.xyz2rowcollay([],[], zcontact[row,:], [xres,yres,zres,xmin,ymin,zmin,xmax,ymax,zmax])\n",
    "for row in range(yres):\n",
    "    for col,z in enumerate(zcontact[row,:]):\n",
    "        [[yind,xind,zind],error] = hfmIn.IndexFromPoint([0,0,z])\n",
    "        icontact[row,col] = zind - 1\n",
    "f.add_subplot(154)\n",
    "plt.imshow(icontact, vmin=zmin, vmax=zmax, cmap='gist_gray')\n",
    "\n",
    "#Create 3D geology array (the integer in each cell indicates the formation present in that cell):\n",
    "#Important: layer 0 is at the top, layer 60 is at the bottom (NOT vice-versa)\n",
    "geo = np.empty((yres,xres,zres))   #set empty 3D array of model dimensions\n",
    "for col in range(xres):            #loop over cols, rows, & layers\n",
    "    for row in range(yres):\n",
    "        for lay in range(zres):             #for each cell, \n",
    "            if lay <= icontact[row,col]:    #if layer is below the contact index (i.e. has a lower index),\n",
    "                geo[row,col,lay] = 2        #assign 2 for shale\n",
    "            if lay > icontact[row,col]:     #if layer is above the contact index (i.e. has a higher index),\n",
    "                geo[row,col,lay] = 1        #assign 1 for limestone\n",
    "\n",
    "#Create geologic map\n",
    "geomap = np.empty((yres,xres))      #set empty 2D array of model dimensions\n",
    "for col in range(xres):             #loop over cols, rows\n",
    "    for row in range(yres):\n",
    "        lay = idem[row,col]                 #get layer index of land surface at current cell\n",
    "        geomap[row,col] = geo[row,col,lay]  #assign map value to be geologic formation present at current cell at land surface\n",
    "f.add_subplot(155)\n",
    "cmap = matplotlib.colors.ListedColormap(['lightgray','yellowgreen','saddlebrown']) #create custom colormap\n",
    "plt.imshow(geomap, cmap=cmap, vmin=0, vmax=2)                 #0:nan, gray, 1: limestone, green 2: shale, brown  \n",
    "\n",
    "#Define spring:\n",
    "ispring = [55,40]            #col, row\n",
    "#_,_,zspring = mapping.xyz2rowcollay([], [], [dema[55,40]], [xres,yres,zres,xmin,ymin,zmin,xmax,ymax,zmax])  #get layer index\n",
    "[[xind,yind,zind],error] = hfmIn.IndexFromPoint([0,0,dema[55,40]])\n",
    "zspring = zind - 1\n",
    "ispring.append(int(zspring))\n",
    "#springXYZ = mapping.xyz2rowcollay([ispring[0]], [ispring[1]], [ispring[2]], [xres,yres,zres,xmin,ymin,zmin,xmax,ymax,zmax], flip=True) #get coordinates based on indices\n",
    "springXYZ = hfmIn.PointFromIndex([ispring[0],ispring[1],ispring[2]])\n",
    "#springXYZ = [item[0] for item in springXYZ]  #flatten list\n",
    "plt.scatter(ispring[0], ispring[1], s=20)    #show spring location\n",
    "print(ispring, springXYZ)\n",
    "\n",
    "#Crop:\n",
    "lithZcrop  = crop2topo([xmin,xmax,xres, ymin,ymax,yres, zmin,zmax,zres], dema, geo)   #crop to land surface (only works if the xy resolution of the DEM is the same as the xy resolution of the model)"
   ]
  },
  {
   "cell_type": "code",
   "execution_count": null,
   "metadata": {},
   "outputs": [],
   "source": [
    "#Generate starting points for walkers:\n",
    "ntips = 5  \n",
    "tips = []\n",
    "for i in range(ntips):                   #generate random starting points\n",
    "    x = random.randrange(xmin,int(springXYZ[1]),dx) - dx/2   #get random integer and move to center of cell\n",
    "    y = random.randrange(ymin,ymax,dy) - dy/2\n",
    "    [[col,row,lay],trash] = hfmIn.IndexFromPoint([x,y,0])\n",
    "    #print('x,y:',x,y)\n",
    "    #print('col,row,lay:',col,row,lay)\n",
    "    z = dema[row,col]                  #extract surface elevation\n",
    "    tip = [x,y,z]                        #for 3d, tip = [x,y,z]        \n",
    "    tips.append(tip)\n",
    "    #print('tip:', tip)\n",
    "hfmIn['tips'] = tips # Ask for the geodesics from specified points (these are the points where walkers would start from to reach the seeds)\n"
   ]
  },
  {
   "cell_type": "code",
   "execution_count": 7,
   "metadata": {},
   "outputs": [
    {
     "name": "stdout",
     "output_type": "stream",
     "text": [
      "Field verbosity defaults to 1\n",
      "Field seedRadius defaults to 0\n",
      "Fast marching solver completed in 0.518 s.\n",
      "Output keys :  dict_keys(['FMCPUTime', 'GeodesicCPUTime', 'MaxStencilWidth', 'StencilCPUTime', 'defaulted', 'flow', 'nAccepted', 'unusedFromCompute', 'values', 'visitedUnset']) \n",
      "\n"
     ]
    }
   ],
   "source": [
    "# Run the solver:\n",
    "#hfmIn['stopWhenAllAccepted']=hfmIn['tips'] # Abort computation when all the tips are reached by the front\n",
    "hfmOut = hfmIn.Run()\n",
    "print(\"Output keys : \", hfmOut.keys(),\"\\n\")  #view keys for getting outputs"
   ]
  },
  {
   "cell_type": "code",
   "execution_count": 8,
   "metadata": {},
   "outputs": [
    {
     "ename": "KeyError",
     "evalue": "'tips'",
     "output_type": "error",
     "traceback": [
      "\u001b[1;31m---------------------------------------------------------------------------\u001b[0m",
      "\u001b[1;31mKeyError\u001b[0m                                  Traceback (most recent call last)",
      "\u001b[1;32m<ipython-input-8-7fa97de27107>\u001b[0m in \u001b[0;36m<module>\u001b[1;34m\u001b[0m\n\u001b[0;32m      9\u001b[0m \u001b[0mseedX\u001b[0m \u001b[1;33m=\u001b[0m \u001b[0mhfmIn\u001b[0m\u001b[1;33m[\u001b[0m\u001b[1;34m'seeds'\u001b[0m\u001b[1;33m]\u001b[0m\u001b[1;33m[\u001b[0m\u001b[1;33m:\u001b[0m\u001b[1;33m,\u001b[0m\u001b[1;36m0\u001b[0m\u001b[1;33m]\u001b[0m         \u001b[1;31m#get seed & tip coordinates\u001b[0m\u001b[1;33m\u001b[0m\u001b[1;33m\u001b[0m\u001b[0m\n\u001b[0;32m     10\u001b[0m \u001b[0mseedY\u001b[0m \u001b[1;33m=\u001b[0m \u001b[0mhfmIn\u001b[0m\u001b[1;33m[\u001b[0m\u001b[1;34m'seeds'\u001b[0m\u001b[1;33m]\u001b[0m\u001b[1;33m[\u001b[0m\u001b[1;33m:\u001b[0m\u001b[1;33m,\u001b[0m\u001b[1;36m1\u001b[0m\u001b[1;33m]\u001b[0m\u001b[1;33m\u001b[0m\u001b[1;33m\u001b[0m\u001b[0m\n\u001b[1;32m---> 11\u001b[1;33m \u001b[0mtipX\u001b[0m \u001b[1;33m=\u001b[0m \u001b[0mhfmIn\u001b[0m\u001b[1;33m[\u001b[0m\u001b[1;34m'tips'\u001b[0m\u001b[1;33m]\u001b[0m\u001b[1;33m[\u001b[0m\u001b[1;33m:\u001b[0m\u001b[1;33m,\u001b[0m\u001b[1;36m0\u001b[0m\u001b[1;33m]\u001b[0m\u001b[1;33m\u001b[0m\u001b[1;33m\u001b[0m\u001b[0m\n\u001b[0m\u001b[0;32m     12\u001b[0m \u001b[0mtipY\u001b[0m \u001b[1;33m=\u001b[0m \u001b[0mhfmIn\u001b[0m\u001b[1;33m[\u001b[0m\u001b[1;34m'tips'\u001b[0m\u001b[1;33m]\u001b[0m\u001b[1;33m[\u001b[0m\u001b[1;33m:\u001b[0m\u001b[1;33m,\u001b[0m\u001b[1;36m1\u001b[0m\u001b[1;33m]\u001b[0m\u001b[1;33m\u001b[0m\u001b[1;33m\u001b[0m\u001b[0m\n\u001b[0;32m     13\u001b[0m \u001b[0mplt\u001b[0m\u001b[1;33m.\u001b[0m\u001b[0mscatter\u001b[0m\u001b[1;33m(\u001b[0m\u001b[0mseedX\u001b[0m\u001b[1;33m,\u001b[0m\u001b[0mseedY\u001b[0m\u001b[1;33m,\u001b[0m \u001b[0mc\u001b[0m\u001b[1;33m=\u001b[0m\u001b[1;34m'c'\u001b[0m\u001b[1;33m)\u001b[0m    \u001b[1;31m#plot seed points\u001b[0m\u001b[1;33m\u001b[0m\u001b[1;33m\u001b[0m\u001b[0m\n",
      "\u001b[1;32m~\\Anaconda3\\envs\\agd-hfm\\lib\\site-packages\\agd-0.1.13-py3.7.egg\\agd\\Eikonal\\DictIn.py\u001b[0m in \u001b[0;36m__getitem__\u001b[1;34m(self, key)\u001b[0m\n\u001b[0;32m    202\u001b[0m                                 \u001b[1;32mraise\u001b[0m \u001b[0mValueError\u001b[0m\u001b[1;33m(\u001b[0m\u001b[1;34mf\"Found {len(values)} values for key {key}\"\u001b[0m\u001b[1;33m)\u001b[0m\u001b[1;33m\u001b[0m\u001b[1;33m\u001b[0m\u001b[0m\n\u001b[0;32m    203\u001b[0m                         \u001b[1;32mreturn\u001b[0m \u001b[0mvalues\u001b[0m\u001b[1;33m[\u001b[0m\u001b[1;36m0\u001b[0m\u001b[1;33m]\u001b[0m\u001b[1;33m\u001b[0m\u001b[1;33m\u001b[0m\u001b[0m\n\u001b[1;32m--> 204\u001b[1;33m                 \u001b[1;32mreturn\u001b[0m \u001b[0mself\u001b[0m\u001b[1;33m.\u001b[0m\u001b[0mstore\u001b[0m\u001b[1;33m[\u001b[0m\u001b[0mkey\u001b[0m\u001b[1;33m]\u001b[0m\u001b[1;33m\u001b[0m\u001b[1;33m\u001b[0m\u001b[0m\n\u001b[0m\u001b[0;32m    205\u001b[0m \u001b[1;33m\u001b[0m\u001b[0m\n\u001b[0;32m    206\u001b[0m         \u001b[1;32mdef\u001b[0m \u001b[0m__delitem__\u001b[0m\u001b[1;33m(\u001b[0m\u001b[0mself\u001b[0m\u001b[1;33m,\u001b[0m \u001b[0mkey\u001b[0m\u001b[1;33m)\u001b[0m\u001b[1;33m:\u001b[0m\u001b[1;33m\u001b[0m\u001b[1;33m\u001b[0m\u001b[0m\n",
      "\u001b[1;31mKeyError\u001b[0m: 'tips'"
     ]
    },
    {
     "data": {
      "image/png": "[encoded data removed]",
      "text/plain": [
       "<Figure size 432x216 with 2 Axes>"
      ]
     },
     "metadata": {
      "needs_background": "light"
     },
     "output_type": "display_data"
    }
   ],
   "source": [
    "#Plot a contour map of travel times to the seeds (t=0 at the seed):\n",
    "f = plt.figure(figsize=[6,3]); plt.title('Isotropic distance function'); plt.axis('equal');\n",
    "z = 0\n",
    "v = plt.contourf(X[:,:,z],Y[:,:,z],hfmOut['values'][:,:,z], cmap='summer'); # Display the value function at a specified z location\n",
    "cbar = f.colorbar(v)\n",
    "cbar.ax.set_ylabel('values')\n",
    "\n",
    "#Plot seeds & tips:\n",
    "seedX = hfmIn['seeds'][:,0]         #get seed & tip coordinates\n",
    "seedY = hfmIn['seeds'][:,1]\n",
    "tipX = hfmIn['tips'][:,0]\n",
    "tipY = hfmIn['tips'][:,1]\n",
    "plt.scatter(seedX,seedY, c='c')    #plot seed points\n",
    "plt.scatter(tipX,tipY,   c='k')    #plot origin point\n",
    "for i in range(len(seedX)):\n",
    "    plt.annotate('seed',(seedX[i],seedY[i]))  #label points\n",
    "for i in range(len(tipX)):\n",
    "    plt.annotate('tip',(tipX[i],tipY[i]))     #label points\n",
    "\n",
    "# Draw the geodesics (the shortest path from tip to seed)\n",
    "for path in hfmOut['geodesics']:  #loop over paths (one per tip/starting point)\n",
    "    pathX = path[0,:]             #get list of X coord\n",
    "    pathY = path[1,:]\n",
    "    plt.plot(pathX,pathY,c='k')   #plot as lines\n",
    "\n"
   ]
  },
  {
   "cell_type": "code",
   "execution_count": 55,
   "metadata": {},
   "outputs": [],
   "source": [
    "#Plot in 3D:\n",
    "contours = np.linspace(np.min(hfmOut['values']), np.max(hfmOut['values']), num=10).tolist() #generate contours\n",
    "mlab.contour3d(hfmOut['values'], contours=contours)\n",
    "mlab.show() # Displays in an external window. "
   ]
  },
  {
   "cell_type": "markdown",
   "metadata": {},
   "source": [
    "**Introduce position-dependent cost:**\n",
    "\n",
    "Some locations are easier to move through than others (ex: limestone vs. shale)"
   ]
  },
  {
   "cell_type": "code",
   "execution_count": 93,
   "metadata": {},
   "outputs": [
    {
     "data": {
      "text/plain": [
       "Text(0, 0.5, 'cost')"
      ]
     },
     "execution_count": 93,
     "metadata": {},
     "output_type": "execute_result"
    },
    {
     "data": {
      "image/png": "[encoded data removed]",
      "text/plain": [
       "<Figure size 432x288 with 2 Axes>"
      ]
     },
     "metadata": {
      "needs_background": "light"
     },
     "output_type": "display_data"
    }
   ],
   "source": [
    "#Define cost function & view:\n",
    "#0: nan, 1: limestone 2: shale  \n",
    "#higher cost = slower to travel through\n",
    "cost = np.rot90(lithZcrop, axes=[1,0])\n",
    "cost[np.isnan(cost)] = 999  #assign very high cost to areas outside model boundary\n",
    "cost[cost==1] = 1        #assign low cost to limestone\n",
    "cost[cost==2] = 100       #assign higher cost to shale\n",
    "hfmIn['cost'] =  cost  #cost is an array of dim(xres,yres) with the value in each cell indicating how difficult it is to move through that cell (higher value=harder to move)\n",
    "f = plt.figure()\n",
    "z = 40\n",
    "v = plt.contourf(X[:,:,z],Y[:,:,z],hfmIn['cost'][:,:,z])\n",
    "plt.axis('equal')\n",
    "cbar = f.colorbar(v)\n",
    "cbar.ax.set_ylabel('cost')"
   ]
  },
  {
   "cell_type": "code",
   "execution_count": 94,
   "metadata": {},
   "outputs": [
    {
     "name": "stdout",
     "output_type": "stream",
     "text": [
      "Field verbosity defaults to 1\n",
      "Field seedRadius defaults to 0\n",
      "Fast marching solver completed in 0.612 s.\n",
      "Field geodesicSolver defaults to Discrete\n",
      "Field geodesicStep defaults to 0.25\n",
      "Field geodesicWeightThreshold defaults to 0.001\n",
      "Field geodesicVolumeBound defaults to 10.985\n"
     ]
    }
   ],
   "source": [
    "#Run:\n",
    "#hfmIn['stopWhenAllAccepted']=hfmIn['tips'] # Abort computation when all the tips are reached by the front\n",
    "hfmOut =hfmIn.Run()"
   ]
  },
  {
   "cell_type": "code",
   "execution_count": 95,
   "metadata": {},
   "outputs": [
    {
     "data": {
      "image/png": "[encoded data removed]",
      "text/plain": [
       "<Figure size 432x216 with 2 Axes>"
      ]
     },
     "metadata": {
      "needs_background": "light"
     },
     "output_type": "display_data"
    }
   ],
   "source": [
    "#View output:\n",
    "#Plot a contour map of travel times to the seeds (t=0 at the seed):\n",
    "f = plt.figure(figsize=[6,3]); plt.title('Isotropic distance function'); plt.axis('equal');\n",
    "z = 40\n",
    "v = plt.contourf(X[:,:,z],Y[:,:,z],hfmOut['values'][:,:,z], cmap='summer'); # Display the value function.\n",
    "cbar = f.colorbar(v)\n",
    "cbar.ax.set_ylabel('values')\n",
    "\n",
    "#Plot seeds & tips:\n",
    "seedX = hfmIn['seeds'][:,0]         #get seed & tip coordinates\n",
    "seedY = hfmIn['seeds'][:,1]\n",
    "tipX = hfmIn['tips'][:,0]\n",
    "tipY = hfmIn['tips'][:,1]\n",
    "plt.scatter(seedX,seedY, c='c')    #plot seed points\n",
    "plt.scatter(tipX,tipY,   c='k')    #plot origin point\n",
    "for i in range(len(seedX)):\n",
    "    plt.annotate('seed',(seedX[i],seedY[i]))  #label points\n",
    "for i in range(len(tipX)):\n",
    "    plt.annotate('tip',(tipX[i],tipY[i]))     #label points\n",
    "\n",
    "# Draw the geodesics (the shortest path from tip to seed)\n",
    "for path in hfmOut['geodesics']:  #loop over paths (one per tip/starting point)\n",
    "    pathX = path[0,:]             #get list of X coord\n",
    "    pathY = path[1,:]\n",
    "    plt.plot(pathX,pathY,c='k')   #plot as lines\n"
   ]
  },
  {
   "cell_type": "code",
   "execution_count": 96,
   "metadata": {},
   "outputs": [],
   "source": [
    "#Plot in 3D:\n",
    "contours = np.linspace(np.min(hfmOut['values']), np.max(hfmOut['values']), num=10).tolist() #generate contours\n",
    "mlab.contour3d(hfmOut['values'], contours=contours)\n",
    "mlab.show() # Displays in an external window. "
   ]
  },
  {
   "cell_type": "code",
   "execution_count": null,
   "metadata": {},
   "outputs": [],
   "source": []
  }
 ],
 "metadata": {
  "kernelspec": {
   "display_name": "Python 3",
   "language": "python",
   "name": "python3"
  },
  "language_info": {
   "codemirror_mode": {
    "name": "ipython",
    "version": 3
   },
   "file_extension": ".py",
   "mimetype": "text/x-python",
   "name": "python",
   "nbconvert_exporter": "python",
   "pygments_lexer": "ipython3",
   "version": "3.7.6"
  }
 },
 "nbformat": 4,
 "nbformat_minor": 4
}
