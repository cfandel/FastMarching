{
 "cells": [
  {
   "cell_type": "markdown",
   "metadata": {},
   "source": [
    "## Anisotropic Fast Marching Methods ##\n",
    "Experimenting with finding the shortest path through an anisotropic medium.\n",
    "\n",
    "Papers being referenced: \n",
    "- https://hal.archives-ouvertes.fr/hal-01778322/document\n",
    "- https://hal.archives-ouvertes.fr/hal-01507334v4/document\n",
    "\n",
    "GitHub repository with source algorithm: \n",
    "- https://github.com/Mirebeau/AdaptiveGridDiscretizations\n",
    "\n",
    "Demo Jupyter Notebooks:\n",
    "- https://nbviewer.jupyter.org/github/Mirebeau/AdaptiveGridDiscretizations/blob/master/Notebooks_FMM/Riemannian.ipynb\n",
    "\n"
   ]
  },
  {
   "cell_type": "markdown",
   "metadata": {},
   "source": [
    "### Setup ###\n",
    "First install the package:<br>\n",
    "`conda install agd -c agd-lbr`"
   ]
  },
  {
   "cell_type": "code",
   "execution_count": 4,
   "metadata": {},
   "outputs": [],
   "source": [
    "from agd import Eikonal\n",
    "import numpy as np\n",
    "import matplotlib\n",
    "import matplotlib.pyplot as plt\n",
    "from mpl_toolkits.mplot3d import Axes3D\n",
    "%matplotlib inline"
   ]
  },
  {
   "cell_type": "markdown",
   "metadata": {},
   "source": [
    "### Isotropic Fast Marching example ###\n",
    "Simple explanation here: https://math.berkeley.edu/~sethian/2006/Explanations/fast_marching_explain.html"
   ]
  },
  {
   "cell_type": "code",
   "execution_count": 6,
   "metadata": {},
   "outputs": [
    {
     "data": {
      "text/plain": [
       "dictIn({'arrayOrdering': 'RowMajor', 'model': 'Isotropic2', 'order': 2.0, 'cost': array(1.)})"
      ]
     },
     "execution_count": 6,
     "metadata": {},
     "output_type": "execute_result"
    }
   ],
   "source": [
    "hfmIn = Eikonal.dictIn({   # Create a dictionary-like structure to store the input data\n",
    "    'model': 'Isotropic2', # Isotropic two-dimensional eikonal equation\n",
    "    'order':  2.,          # Use a second order scheme, so as to increase accuracy\n",
    "    'cost':   1.           # Unit cost for now. A position dependent cost function is also considered below.\n",
    "    #'speed': 1.           # One may equivalently provide a speed function. In that case cost = 1/speed.\n",
    "})\n",
    "hfmIn"
   ]
  },
  {
   "cell_type": "code",
   "execution_count": 16,
   "metadata": {},
   "outputs": [
    {
     "data": {
      "text/plain": [
       "dictIn({'arrayOrdering': 'RowMajor', 'model': 'Isotropic2', 'order': 2.0, 'cost': array(1.), 'gridScale': array(0.01), 'dims': array([200., 100.]), 'origin': array([-1.,  0.])})"
      ]
     },
     "execution_count": 16,
     "metadata": {},
     "output_type": "execute_result"
    },
    {
     "data": {
      "image/png": "[encoded data removed]",
      "text/plain": [
       "<Figure size 432x288 with 1 Axes>"
      ]
     },
     "metadata": {
      "needs_background": "light"
     },
     "output_type": "display_data"
    }
   ],
   "source": [
    "hfmIn.SetRect(sides=[[-1,1],[0,1]],gridScale=0.01)  #create a grid with sides [xmin,xmax],[ymin,ymax] and dims (height/gridScale, width/gridScale)\n",
    "X,Y = hfmIn.Grid()                                  #create a coordinate system (two arrays of the X and Y values (respectively) at each point in the grid)\n",
    "plt.scatter(X,Y, s=1)                               #visualize the grid\n",
    "hfmIn"
   ]
  },
  {
   "cell_type": "code",
   "execution_count": 20,
   "metadata": {},
   "outputs": [
    {
     "name": "stdout",
     "output_type": "stream",
     "text": [
      "Seed grid indices rounded to [[ 50  29]\n",
      " [150  80]], with rounding errors [[-0.5  0.5]\n",
      " [-0.5 -0.5]]\n",
      "Rounded positions [[-0.495  0.295]\n",
      " [ 0.505  0.805]], original positions [[-0.5  0.3]\n",
      " [ 0.5  0.8]]\n"
     ]
    },
    {
     "data": {
      "text/plain": [
       "dictIn({'arrayOrdering': 'RowMajor', 'model': 'Isotropic2', 'order': 2.0, 'cost': array(1.), 'gridScale': array(0.01), 'dims': array([200., 100.]), 'origin': array([-1.,  0.]), 'seeds': array([[-0.5,  0.3],\n",
       "       [ 0.5,  0.8]]), 'seedValues': array([0. , 0.5])})"
      ]
     },
     "execution_count": 20,
     "metadata": {},
     "output_type": "execute_result"
    }
   ],
   "source": [
    "hfmIn.update({\n",
    "    'seeds':[[-0.5,0.3],[0.5,0.8]],  # Introduce seeds, at positions [[x1,y1],[x2,y2],...] (will be rounded to closest grid point)\n",
    "    'seedValues':[0.,0.5],           # Boundary conditions imposed at the seeds. (?)\n",
    "    # 'seedValues' defaults [0.,0.] if unspecified. \n",
    "})\n",
    "index,rounding_error = hfmIn.IndexFromPoint(hfmIn['seeds'])  #get rounded indices of seeds in grid\n",
    "print(f\"Seed grid indices rounded to {index}, with rounding errors {rounding_error}\")\n",
    "print(f\"Rounded positions {hfmIn.PointFromIndex(index)}, original positions {hfmIn.PointFromIndex(index+rounding_error)}\") #get back original positions if needed\n",
    "\n",
    "hfmIn"
   ]
  },
  {
   "cell_type": "code",
   "execution_count": 22,
   "metadata": {},
   "outputs": [
    {
     "data": {
      "text/plain": [
       "dictIn({'arrayOrdering': 'RowMajor', 'model': 'Isotropic2', 'order': 2.0, 'cost': array(1.), 'gridScale': array(0.01), 'dims': array([200., 100.]), 'origin': array([-1.,  0.]), 'seeds': array([[-0.5,  0.3],\n",
       "       [ 0.5,  0.8]]), 'seedValues': array([0. , 0.5]), 'exportValues': 1.0, 'exportGeodesicFlow': 1})"
      ]
     },
     "execution_count": 22,
     "metadata": {},
     "output_type": "execute_result"
    }
   ],
   "source": [
    "#Indicate desired outputs:\n",
    "hfmIn['exportValues'] = 1.         # Ask for the PDE solution\n",
    "hfmIn['exportGeodesicFlow'] = 1    # Ask for the geodesic flow \n",
    "hfmIn"
   ]
  },
  {
   "cell_type": "code",
   "execution_count": 23,
   "metadata": {},
   "outputs": [],
   "source": [
    "hfmIn['tips'] = [[0.,0.6],[-0.9,0.5],[0.8,0.8]] # Ask for the geodesics from specified points"
   ]
  },
  {
   "cell_type": "code",
   "execution_count": 24,
   "metadata": {},
   "outputs": [
    {
     "name": "stdout",
     "output_type": "stream",
     "text": [
      "ERROR :ERROR : the HFMpy library is not found, and the path to the FileHFM binaries is not set\n",
      "\n",
      "You can set the path to the FileHFM compiled binaries, as follows : \n",
      "\n",
      ">>> agd.Eikonal.LibraryCall.FileHFM_binary_dir = 'path/to/FileHFM/bin'\n",
      "\n",
      "\n",
      "\n",
      "In order to do this automatically in the future, please set this path \n",
      "in the first line of a file named 'FileHFM_binary_dir.txt' in the current directory\n",
      "\n",
      ">>> with open('FileHFM_binary_dir.txt','w+') as file: file.write('path/to/FileHFM/bin')\n",
      "\n"
     ]
    },
    {
     "ename": "FileNotFoundError",
     "evalue": "[Errno 2] No such file or directory: 'FileHFM_binary_dir.txt'",
     "output_type": "error",
     "traceback": [
      "\u001b[1;31m---------------------------------------------------------------------------\u001b[0m",
      "\u001b[1;31mFileNotFoundError\u001b[0m                         Traceback (most recent call last)",
      "\u001b[1;32m<ipython-input-24-28df913fd5a3>\u001b[0m in \u001b[0;36m<module>\u001b[1;34m\u001b[0m\n\u001b[0;32m      1\u001b[0m \u001b[1;31m# Run the solver:\u001b[0m\u001b[1;33m\u001b[0m\u001b[1;33m\u001b[0m\u001b[1;33m\u001b[0m\u001b[0m\n\u001b[1;32m----> 2\u001b[1;33m \u001b[0mhfmOut\u001b[0m \u001b[1;33m=\u001b[0m \u001b[0mhfmIn\u001b[0m\u001b[1;33m.\u001b[0m\u001b[0mRun\u001b[0m\u001b[1;33m(\u001b[0m\u001b[1;33m)\u001b[0m\u001b[1;33m\u001b[0m\u001b[1;33m\u001b[0m\u001b[0m\n\u001b[0m",
      "\u001b[1;32m~\\Anaconda3\\envs\\fm\\lib\\site-packages\\agd-0.1.12-py3.7.egg\\agd\\Eikonal\\DictIn.py\u001b[0m in \u001b[0;36mRun\u001b[1;34m(self, join, **kwargs)\u001b[0m\n\u001b[0;32m    184\u001b[0m                         \u001b[1;32melse\u001b[0m\u001b[1;33m:\u001b[0m \u001b[1;32mreturn\u001b[0m \u001b[0mdictOut\u001b[0m\u001b[1;33m(\u001b[0m\u001b[0mout\u001b[0m\u001b[1;33m)\u001b[0m\u001b[1;33m\u001b[0m\u001b[1;33m\u001b[0m\u001b[0m\n\u001b[0;32m    185\u001b[0m \u001b[1;33m\u001b[0m\u001b[0m\n\u001b[1;32m--> 186\u001b[1;33m                 \u001b[1;32mif\u001b[0m   \u001b[0mself\u001b[0m\u001b[1;33m.\u001b[0m\u001b[0mmode\u001b[0m\u001b[1;33m==\u001b[0m\u001b[1;34m'cpu'\u001b[0m\u001b[1;33m:\u001b[0m \u001b[1;32mreturn\u001b[0m \u001b[0mto_dictOut\u001b[0m\u001b[1;33m(\u001b[0m\u001b[0mrun_detail\u001b[0m\u001b[1;33m.\u001b[0m\u001b[0mRunSmart\u001b[0m\u001b[1;33m(\u001b[0m\u001b[0mself\u001b[0m\u001b[1;33m,\u001b[0m\u001b[1;33m**\u001b[0m\u001b[0mkwargs\u001b[0m\u001b[1;33m)\u001b[0m\u001b[1;33m)\u001b[0m\u001b[1;33m\u001b[0m\u001b[1;33m\u001b[0m\u001b[0m\n\u001b[0m\u001b[0;32m    187\u001b[0m                 \u001b[1;32melif\u001b[0m \u001b[0mself\u001b[0m\u001b[1;33m.\u001b[0m\u001b[0mmode\u001b[0m\u001b[1;33m==\u001b[0m\u001b[1;34m'cpu_raw'\u001b[0m\u001b[1;33m:\u001b[0m \u001b[1;32mreturn\u001b[0m \u001b[0mto_dictOut\u001b[0m\u001b[1;33m(\u001b[0m\u001b[0mrun_detail\u001b[0m\u001b[1;33m.\u001b[0m\u001b[0mRunRaw\u001b[0m\u001b[1;33m(\u001b[0m\u001b[0mself\u001b[0m\u001b[1;33m.\u001b[0m\u001b[0mstore\u001b[0m\u001b[1;33m,\u001b[0m\u001b[1;33m**\u001b[0m\u001b[0mkwargs\u001b[0m\u001b[1;33m)\u001b[0m\u001b[1;33m)\u001b[0m\u001b[1;33m\u001b[0m\u001b[1;33m\u001b[0m\u001b[0m\n\u001b[0;32m    188\u001b[0m                 \u001b[1;32melif\u001b[0m \u001b[0mself\u001b[0m\u001b[1;33m.\u001b[0m\u001b[0mmode\u001b[0m\u001b[1;33m==\u001b[0m\u001b[1;34m'cpu_transfer'\u001b[0m\u001b[1;33m:\u001b[0m\u001b[1;33m\u001b[0m\u001b[1;33m\u001b[0m\u001b[0m\n",
      "\u001b[1;32m~\\Anaconda3\\envs\\fm\\lib\\site-packages\\agd-0.1.12-py3.7.egg\\agd\\Eikonal\\run_detail.py\u001b[0m in \u001b[0;36mRunSmart\u001b[1;34m(hfmIn, returns, co_output, cache)\u001b[0m\n\u001b[0;32m    139\u001b[0m         \u001b[1;31m# Call to the HFM library\u001b[0m\u001b[1;33m\u001b[0m\u001b[1;33m\u001b[0m\u001b[1;33m\u001b[0m\u001b[0m\n\u001b[0;32m    140\u001b[0m         \u001b[1;32mif\u001b[0m \u001b[0mreturns\u001b[0m\u001b[1;33m==\u001b[0m\u001b[1;34m'in_raw'\u001b[0m\u001b[1;33m:\u001b[0m \u001b[1;32mreturn\u001b[0m \u001b[0mhfmIn_raw\u001b[0m\u001b[1;33m\u001b[0m\u001b[1;33m\u001b[0m\u001b[0m\n\u001b[1;32m--> 141\u001b[1;33m         \u001b[0mhfmOut_raw\u001b[0m \u001b[1;33m=\u001b[0m \u001b[0mRunDispatch\u001b[0m\u001b[1;33m(\u001b[0m\u001b[0mhfmIn_raw\u001b[0m\u001b[1;33m,\u001b[0m\u001b[0mGetBinaryDir\u001b[0m\u001b[1;33m(\u001b[0m\u001b[1;34m\"FileHFM\"\u001b[0m\u001b[1;33m,\u001b[0m\u001b[1;34m\"HFMpy\"\u001b[0m\u001b[1;33m)\u001b[0m\u001b[1;33m)\u001b[0m\u001b[1;33m\u001b[0m\u001b[1;33m\u001b[0m\u001b[0m\n\u001b[0m\u001b[0;32m    142\u001b[0m         \u001b[1;32mif\u001b[0m \u001b[0mreturns\u001b[0m\u001b[1;33m==\u001b[0m\u001b[1;34m'out_raw'\u001b[0m\u001b[1;33m:\u001b[0m \u001b[1;32mreturn\u001b[0m \u001b[0mhfmOut_raw\u001b[0m\u001b[1;33m\u001b[0m\u001b[1;33m\u001b[0m\u001b[0m\n\u001b[0;32m    143\u001b[0m \u001b[1;33m\u001b[0m\u001b[0m\n",
      "\u001b[1;32m~\\Anaconda3\\envs\\fm\\lib\\site-packages\\agd-0.1.12-py3.7.egg\\agd\\Eikonal\\LibraryCall.py\u001b[0m in \u001b[0;36mGetBinaryDir\u001b[1;34m(execName, libName)\u001b[0m\n\u001b[0;32m     88\u001b[0m         \u001b[1;32mtry\u001b[0m\u001b[1;33m:\u001b[0m\u001b[1;33m\u001b[0m\u001b[1;33m\u001b[0m\u001b[0m\n\u001b[0;32m     89\u001b[0m                 \u001b[1;31m# Try reading the file\u001b[0m\u001b[1;33m\u001b[0m\u001b[1;33m\u001b[0m\u001b[1;33m\u001b[0m\u001b[0m\n\u001b[1;32m---> 90\u001b[1;33m                 \u001b[1;32mwith\u001b[0m \u001b[0mopen\u001b[0m\u001b[1;33m(\u001b[0m\u001b[0mfileName\u001b[0m\u001b[1;33m,\u001b[0m\u001b[1;34m'r'\u001b[0m\u001b[1;33m)\u001b[0m \u001b[1;32mas\u001b[0m \u001b[0mf\u001b[0m\u001b[1;33m:\u001b[0m\u001b[1;33m\u001b[0m\u001b[1;33m\u001b[0m\u001b[0m\n\u001b[0m\u001b[0;32m     91\u001b[0m                         \u001b[0mbinary_dir\u001b[0m \u001b[1;33m=\u001b[0m \u001b[0mf\u001b[0m\u001b[1;33m.\u001b[0m\u001b[0mreadline\u001b[0m\u001b[1;33m(\u001b[0m\u001b[1;33m)\u001b[0m\u001b[1;33m.\u001b[0m\u001b[0mreplace\u001b[0m\u001b[1;33m(\u001b[0m\u001b[1;34m'\\n'\u001b[0m\u001b[1;33m,\u001b[0m\u001b[1;34m''\u001b[0m\u001b[1;33m)\u001b[0m\u001b[1;33m\u001b[0m\u001b[1;33m\u001b[0m\u001b[0m\n\u001b[0;32m     92\u001b[0m                         \u001b[1;32mif\u001b[0m \u001b[0mbinary_dir\u001b[0m\u001b[1;33m==\u001b[0m\u001b[1;34m\"None\"\u001b[0m\u001b[1;33m:\u001b[0m\u001b[1;33m\u001b[0m\u001b[1;33m\u001b[0m\u001b[0m\n",
      "\u001b[1;31mFileNotFoundError\u001b[0m: [Errno 2] No such file or directory: 'FileHFM_binary_dir.txt'"
     ]
    }
   ],
   "source": [
    "# Run the solver:\n",
    "hfmOut = hfmIn.Run()"
   ]
  },
  {
   "cell_type": "code",
   "execution_count": null,
   "metadata": {},
   "outputs": [],
   "source": []
  }
 ],
 "metadata": {
  "kernelspec": {
   "display_name": "Python 3",
   "language": "python",
   "name": "python3"
  },
  "language_info": {
   "codemirror_mode": {
    "name": "ipython",
    "version": 3
   },
   "file_extension": ".py",
   "mimetype": "text/x-python",
   "name": "python",
   "nbconvert_exporter": "python",
   "pygments_lexer": "ipython3",
   "version": "3.8.3"
  }
 },
 "nbformat": 4,
 "nbformat_minor": 4
}
